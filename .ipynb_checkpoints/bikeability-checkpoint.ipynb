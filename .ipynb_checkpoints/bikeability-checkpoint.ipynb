{
 "cells": [
  {
   "cell_type": "markdown",
   "metadata": {},
   "source": [
    "# Mapping bike lanes in Pittsburgh\n",
    "As a cyclist who's primary source of transportation is a bicycle, I wanted to get a better understanding of "
   ]
  },
  {
   "cell_type": "markdown",
   "metadata": {},
   "source": [
    "## Setting up the notebook\n",
    "I cheated and wrote a wrapper for accessing Overpass API in a separate file - here is the link to the github gist and, which includes the API class and a quick function to calculate length from the lat/lon coords returned from the API.\n"
   ]
  },
  {
   "cell_type": "code",
   "execution_count": 1,
   "metadata": {},
   "outputs": [],
   "source": [
    "from bikeability import overpass\n",
    "import pandas as pd\n",
    "api = overpass.API()"
   ]
  },
  {
   "cell_type": "code",
   "execution_count": 2,
   "metadata": {},
   "outputs": [],
   "source": [
    "cycle_query = \"\"\"(way[highway=cycleway](area.a);way[cycleway=lane](area.a);\n",
    "                   way[cycleway=asl](area.a);way[cycleway=bike_box](area.a);\n",
    "                   way[cycleway=crossing](area.a);way[cycleway=opposite_lane](area.a);\n",
    "                   way[cycleway=opposite_track](area.a);way[cycleway=separate](area.a);\n",
    "                   way[cycleway=sidepath](area.a);way[cycleway=track](area.a);\n",
    "                   way[bicycle=designated](area.a);way[bicycle=yes](area.a);\n",
    "                   way[bicycle_road=yes](area.a);\n",
    "                   );\"\"\"\n",
    "# city = 'Pittsburgh'\n",
    "# relation_id = 188553\n",
    "city = 'Minneapolis'\n",
    "relation_id = 136712\n",
    "top_cycling_cities = {'Seattle':1,\n",
    "                     'San Francisco': 2,\n",
    "                      'Fort Collins': 3\n",
    "                     'Minneapolis': 136712,\n",
    "                     'Portland': 5}"
   ]
  },
  {
   "cell_type": "code",
   "execution_count": 3,
   "metadata": {},
   "outputs": [
    {
     "name": "stdout",
     "output_type": "stream",
     "text": [
      "<class 'pandas.core.frame.DataFrame'>\n",
      "RangeIndex: 2026 entries, 0 to 2025\n",
      "Data columns (total 135 columns):\n",
      " #    Column                              Dtype  \n",
      "---   ------                              -----  \n",
      " 0    type                                object \n",
      " 1    id                                  int64  \n",
      " 2    nodes                               object \n",
      " 3    geometry                            object \n",
      " 4    bounds.minlat                       float64\n",
      " 5    bounds.minlon                       float64\n",
      " 6    bounds.maxlat                       float64\n",
      " 7    bounds.maxlon                       float64\n",
      " 8    tags.bicycle                        object \n",
      " 9    tags.cycleway:left                  object \n",
      " 10   tags.cycleway:right                 object \n",
      " 11   tags.highway                        object \n",
      " 12   tags.lanes                          object \n",
      " 13   tags.maxspeed                       object \n",
      " 14   tags.name                           object \n",
      " 15   tags.tiger:cfcc                     object \n",
      " 16   tags.tiger:name_base                object \n",
      " 17   tags.tiger:name_direction_suffix    object \n",
      " 18   tags.tiger:name_type                object \n",
      " 19   tags.tiger:reviewed                 object \n",
      " 20   tags.tiger:zip_left                 object \n",
      " 21   tags.tiger:zip_right                object \n",
      " 22   tags.cycleway                       object \n",
      " 23   tags.motor_vehicle                  object \n",
      " 24   tags.tiger:name_direction_prefix    object \n",
      " 25   tags.oneway                         object \n",
      " 26   tags.ref                            object \n",
      " 27   tags.sidewalk                       object \n",
      " 28   tags.surface                        object \n",
      " 29   tags.foot                           object \n",
      " 30   tags.segregated                     object \n",
      " 31   tags.alt_name                       object \n",
      " 32   tags.hgv                            object \n",
      " 33   tags.name_1                         object \n",
      " 34   tags.tiger:name_base_1              object \n",
      " 35   tags.tiger:name_type_1              object \n",
      " 36   tags.old_ref                        object \n",
      " 37   tags.bridge                         object \n",
      " 38   tags.layer                          object \n",
      " 39   tags.tiger:zip_left_1               object \n",
      " 40   tags.tiger:zip_right_1              object \n",
      " 41   tags.lanes:backward                 object \n",
      " 42   tags.lanes:forward                  object \n",
      " 43   tags.cyclestreet                    object \n",
      " 44   tags.maxweightrating:hgv            object \n",
      " 45   tags.level                          object \n",
      " 46   tags.cycleway:lane                  object \n",
      " 47   tags.maxspeed:type                  object \n",
      " 48   tags.turn:lanes:backward            object \n",
      " 49   tags.cycleway:track                 object \n",
      " 50   tags.note                           object \n",
      " 51   tags.source                         object \n",
      " 52   tags.lit                            object \n",
      " 53   tags.old_name                       object \n",
      " 54   tags.tiger:zip_left_2               object \n",
      " 55   tags.tiger:zip_left_3               object \n",
      " 56   tags.tiger:zip_right_3              object \n",
      " 57   tags.cycleway:both                  object \n",
      " 58   tags.check_date                     object \n",
      " 59   tags.opening_date                   object \n",
      " 60   tags.tiger:zip_left_4               object \n",
      " 61   tags.railway                        object \n",
      " 62   tags.fixme                          object \n",
      " 63   tags.lane_markings                  object \n",
      " 64   tags.wikipedia                      object \n",
      " 65   tags.tiger:name_direction_suffix_1  object \n",
      " 66   tags.history                        object \n",
      " 67   tags.covered                        object \n",
      " 68   tags.start_date                     object \n",
      " 69   tags.wikidata                       object \n",
      " 70   tags.tiger:county                   object \n",
      " 71   tags.width                          object \n",
      " 72   tags.access                         object \n",
      " 73   tags.description                    object \n",
      " 74   tags.historic                       object \n",
      " 75   tags.tiger:name_direction_prefix_1  object \n",
      " 76   tags.bus                            object \n",
      " 77   tags.emergency                      object \n",
      " 78   tags.cyclerating                    object \n",
      " 79   tags.bridge:structure               object \n",
      " 80   tags.sac_scale                      object \n",
      " 81   tags.oneway:bicycle                 object \n",
      " 82   tags.bridge:name                    object \n",
      " 83   tags.heritage                       object \n",
      " 84   tags.heritage:operator              object \n",
      " 85   tags.ref:nrhp                       object \n",
      " 86   tags.tiger:source                   object \n",
      " 87   tags.tiger:tlid                     object \n",
      " 88   tags.ramp                           object \n",
      " 89   tags.surface:material               object \n",
      " 90   tags.cycleway:surface               object \n",
      " 91   tags.footway:surface                object \n",
      " 92   tags.embankment                     object \n",
      " 93   tags.construction                   object \n",
      " 94   tags.footway                        object \n",
      " 95   tags.horse                          object \n",
      " 96   tags.tiger:zip_right_2              object \n",
      " 97   tags.hgv:national_network           object \n",
      " 98   tags.source:hgv:national_network    object \n",
      " 99   tags.tunnel                         object \n",
      " 100  tags.incline                        object \n",
      " 101  tags.crossing                       object \n",
      " 102  tags.bikeway:type                   object \n",
      " 103  tags.service                        object \n",
      " 104  tags.tiger:separated                object \n",
      " 105  tags.tiger:name_base_2              object \n",
      " 106  tags.tiger:name_direction_prefix_2  object \n",
      " 107  tags.tiger:name_type_2              object \n",
      " 108  tags.name_2                         object \n",
      " 109  tags.maxheight                      object \n",
      " 110  tags.motorcar                       object \n",
      " 111  tags.ski                            object \n",
      " 112  tags.snowmobile                     object \n",
      " 113  tags.turn:lanes:forward             object \n",
      " 114  tags.loppet                         object \n",
      " 115  tags.mtb:access                     object \n",
      " 116  tags.parking:lane:right             object \n",
      " 117  tags.mtb:scale                      object \n",
      " 118  tags.mtb:scale:uphill               object \n",
      " 119  tags.trail_visibility               object \n",
      " 120  tags.turn:lanes                     object \n",
      " 121  tags.cycleway:right:track           object \n",
      " 122  tags.FIXME                          object \n",
      " 123  tags.handrail                       object \n",
      " 124  tags.old_name_1                     object \n",
      " 125  tags.oneway:foot                    object \n",
      " 126  tags.traffic_calming                object \n",
      " 127  tags.crossing:island                object \n",
      " 128  tags.tactile_paving                 object \n",
      " 129  tags.busway                         object \n",
      " 130  tags.loc_name                       object \n",
      " 131  tags.loc_name:etymology             object \n",
      " 132  tags.loc_name:etymology:wikidata    object \n",
      " 133  city                                object \n",
      " 134  length                              float64\n",
      "dtypes: float64(5), int64(1), object(129)\n",
      "memory usage: 2.1+ MB\n"
     ]
    }
   ],
   "source": [
    "bike_lanes = api.get(cycle_query, area_id=relation_id)\n",
    "bike_lanes['city'] = city\n",
    "bike_lanes['length'] = bike_lanes['geometry'].apply(overpass.length)\n",
    "bike_lanes.info(verbose=True)"
   ]
  },
  {
   "cell_type": "code",
   "execution_count": 4,
   "metadata": {},
   "outputs": [
    {
     "name": "stdout",
     "output_type": "stream",
     "text": [
      "<class 'pandas.core.frame.DataFrame'>\n",
      "RangeIndex: 2026 entries, 0 to 2025\n",
      "Data columns (total 32 columns):\n",
      " #   Column               Non-Null Count  Dtype  \n",
      "---  ------               --------------  -----  \n",
      " 0   type                 2026 non-null   object \n",
      " 1   id                   2026 non-null   int64  \n",
      " 2   nodes                2026 non-null   object \n",
      " 3   geometry             2026 non-null   object \n",
      " 4   tags.bicycle         1307 non-null   object \n",
      " 5   tags.cycleway:left   29 non-null     object \n",
      " 6   tags.cycleway:right  107 non-null    object \n",
      " 7   tags.highway         2026 non-null   object \n",
      " 8   tags.lanes           704 non-null    object \n",
      " 9   tags.maxspeed        870 non-null    object \n",
      " 10  tags.name            1276 non-null   object \n",
      " 11  tags.cycleway        890 non-null    object \n",
      " 12  tags.motor_vehicle   249 non-null    object \n",
      " 13  tags.oneway          718 non-null    object \n",
      " 14  tags.sidewalk        497 non-null    object \n",
      " 15  tags.surface         1220 non-null   object \n",
      " 16  tags.foot            712 non-null    object \n",
      " 17  tags.segregated      543 non-null    object \n",
      " 18  tags.hgv             23 non-null     object \n",
      " 19  tags.name_1          165 non-null    object \n",
      " 20  tags.bridge          179 non-null    object \n",
      " 21  tags.level           26 non-null     object \n",
      " 22  tags.cycleway:track  66 non-null     object \n",
      " 23  tags.lit             105 non-null    object \n",
      " 24  tags.railway         48 non-null     object \n",
      " 25  tags.width           151 non-null    object \n",
      " 26  tags.access          154 non-null    object \n",
      " 27  tags.construction    30 non-null     object \n",
      " 28  tags.footway         112 non-null    object \n",
      " 29  tags.crossing        69 non-null     object \n",
      " 30  city                 2026 non-null   object \n",
      " 31  length               2026 non-null   float64\n",
      "dtypes: float64(1), int64(1), object(30)\n",
      "memory usage: 506.6+ KB\n"
     ]
    }
   ],
   "source": [
    "bike_lanes = bike_lanes.loc[:, bike_lanes.isnull().mean() <=.99]\n",
    "remove_columns = ['tiger', 'bounds', 'source', 'note', 'ref', 'horse', 'maxweight',\n",
    "                  'layer','alt_name']\n",
    "columns = bike_lanes.columns\n",
    "for r in remove_columns:\n",
    "    columns = [c for c in columns if r not in c]\n",
    "\n",
    "bike_lanes = bike_lanes[columns]\n",
    "bike_lanes.info(verbose=True)"
   ]
  },
  {
   "cell_type": "code",
   "execution_count": 5,
   "metadata": {},
   "outputs": [],
   "source": [
    "remove = ['motorway', 'trunk', 'motorway_link','trunk_link', 'steps']\n",
    "bike_lanes.drop(bike_lanes.loc[(bike_lanes['tags.highway'].isin(remove)) & (bike_lanes['tags.cycleway'].isnull()) & (bike_lanes['tags.bicycle'] != 'designated')].index, inplace=True)"
   ]
  },
  {
   "cell_type": "code",
   "execution_count": 6,
   "metadata": {},
   "outputs": [
    {
     "name": "stdout",
     "output_type": "stream",
     "text": [
      "<class 'pandas.core.frame.DataFrame'>\n",
      "Int64Index: 2024 entries, 0 to 2025\n",
      "Data columns (total 32 columns):\n",
      " #   Column               Non-Null Count  Dtype  \n",
      "---  ------               --------------  -----  \n",
      " 0   type                 2024 non-null   object \n",
      " 1   id                   2024 non-null   int64  \n",
      " 2   nodes                2024 non-null   object \n",
      " 3   geometry             2024 non-null   object \n",
      " 4   tags.bicycle         1305 non-null   object \n",
      " 5   tags.cycleway:left   29 non-null     object \n",
      " 6   tags.cycleway:right  107 non-null    object \n",
      " 7   tags.highway         2024 non-null   object \n",
      " 8   tags.lanes           702 non-null    object \n",
      " 9   tags.maxspeed        868 non-null    object \n",
      " 10  tags.name            1274 non-null   object \n",
      " 11  tags.cycleway        890 non-null    object \n",
      " 12  tags.motor_vehicle   248 non-null    object \n",
      " 13  tags.oneway          716 non-null    object \n",
      " 14  tags.sidewalk        497 non-null    object \n",
      " 15  tags.surface         1220 non-null   object \n",
      " 16  tags.foot            710 non-null    object \n",
      " 17  tags.segregated      543 non-null    object \n",
      " 18  tags.hgv             21 non-null     object \n",
      " 19  tags.name_1          165 non-null    object \n",
      " 20  tags.bridge          179 non-null    object \n",
      " 21  tags.level           26 non-null     object \n",
      " 22  tags.cycleway:track  66 non-null     object \n",
      " 23  tags.lit             105 non-null    object \n",
      " 24  tags.railway         48 non-null     object \n",
      " 25  tags.width           151 non-null    object \n",
      " 26  tags.access          153 non-null    object \n",
      " 27  tags.construction    30 non-null     object \n",
      " 28  tags.footway         112 non-null    object \n",
      " 29  tags.crossing        69 non-null     object \n",
      " 30  city                 2024 non-null   object \n",
      " 31  length               2024 non-null   float64\n",
      "dtypes: float64(1), int64(1), object(30)\n",
      "memory usage: 521.8+ KB\n"
     ]
    }
   ],
   "source": [
    "bike_lanes.info(verbose=True)"
   ]
  },
  {
   "cell_type": "code",
   "execution_count": 7,
   "metadata": {},
   "outputs": [
    {
     "data": {
      "text/plain": [
       "array(['residential', 'primary', 'cycleway', 'unclassified', 'tertiary',\n",
       "       'secondary', 'pedestrian', 'living_street', 'footway', 'service',\n",
       "       'path', 'tertiary_link', 'construction', 'bridleway', 'steps'],\n",
       "      dtype=object)"
      ]
     },
     "execution_count": 7,
     "metadata": {},
     "output_type": "execute_result"
    }
   ],
   "source": [
    "bike_lanes['tags.highway'].unique()"
   ]
  },
  {
   "cell_type": "code",
   "execution_count": 8,
   "metadata": {
    "scrolled": true
   },
   "outputs": [
    {
     "data": {
      "text/plain": [
       "array([nan, 'shared_lane', 'lane', 'no', 'track', 'crossing', 'shared',\n",
       "       'share_busway'], dtype=object)"
      ]
     },
     "execution_count": 8,
     "metadata": {},
     "output_type": "execute_result"
    }
   ],
   "source": [
    "bike_lanes['tags.cycleway'].unique()\n"
   ]
  },
  {
   "cell_type": "code",
   "execution_count": 9,
   "metadata": {},
   "outputs": [
    {
     "data": {
      "text/plain": [
       "array(['lane', nan, 'shared_lane', 'track', 'opposite_lane'], dtype=object)"
      ]
     },
     "execution_count": 9,
     "metadata": {},
     "output_type": "execute_result"
    }
   ],
   "source": [
    "bike_lanes['tags.cycleway:right'].unique()"
   ]
  },
  {
   "cell_type": "code",
   "execution_count": 10,
   "metadata": {},
   "outputs": [
    {
     "data": {
      "text/plain": [
       "array(['shared_lane', nan, 'no', 'lane', 'opposite_lane', 'opposite'],\n",
       "      dtype=object)"
      ]
     },
     "execution_count": 10,
     "metadata": {},
     "output_type": "execute_result"
    }
   ],
   "source": [
    "bike_lanes['tags.cycleway:left'].unique()"
   ]
  },
  {
   "cell_type": "code",
   "execution_count": 11,
   "metadata": {},
   "outputs": [
    {
     "data": {
      "text/plain": [
       "array(['designated', nan, 'yes', 'dismount', 'permissive', 'destination'],\n",
       "      dtype=object)"
      ]
     },
     "execution_count": 11,
     "metadata": {},
     "output_type": "execute_result"
    }
   ],
   "source": [
    "bike_lanes['tags.bicycle'].unique()"
   ]
  },
  {
   "cell_type": "code",
   "execution_count": null,
   "metadata": {},
   "outputs": [],
   "source": []
  },
  {
   "cell_type": "code",
   "execution_count": 67,
   "metadata": {},
   "outputs": [
    {
     "ename": "ValueError",
     "evalue": "Cannot index with multidimensional key",
     "output_type": "error",
     "traceback": [
      "\u001b[0;31m---------------------------------------------------------------------------\u001b[0m",
      "\u001b[0;31mValueError\u001b[0m                                Traceback (most recent call last)",
      "\u001b[0;32m<ipython-input-67-531480234af5>\u001b[0m in \u001b[0;36m<module>\u001b[0;34m\u001b[0m\n\u001b[0;32m----> 1\u001b[0;31m \u001b[0mbike_lanes\u001b[0m\u001b[0;34m.\u001b[0m\u001b[0mloc\u001b[0m\u001b[0;34m[\u001b[0m\u001b[0mh\u001b[0m\u001b[0;34m]\u001b[0m\u001b[0;34m\u001b[0m\u001b[0;34m\u001b[0m\u001b[0m\n\u001b[0m",
      "\u001b[0;32m~/Projects/bikeability/.venv/lib/python3.8/site-packages/pandas/core/indexing.py\u001b[0m in \u001b[0;36m__getitem__\u001b[0;34m(self, key)\u001b[0m\n\u001b[1;32m    893\u001b[0m \u001b[0;34m\u001b[0m\u001b[0m\n\u001b[1;32m    894\u001b[0m             \u001b[0mmaybe_callable\u001b[0m \u001b[0;34m=\u001b[0m \u001b[0mcom\u001b[0m\u001b[0;34m.\u001b[0m\u001b[0mapply_if_callable\u001b[0m\u001b[0;34m(\u001b[0m\u001b[0mkey\u001b[0m\u001b[0;34m,\u001b[0m \u001b[0mself\u001b[0m\u001b[0;34m.\u001b[0m\u001b[0mobj\u001b[0m\u001b[0;34m)\u001b[0m\u001b[0;34m\u001b[0m\u001b[0;34m\u001b[0m\u001b[0m\n\u001b[0;32m--> 895\u001b[0;31m             \u001b[0;32mreturn\u001b[0m \u001b[0mself\u001b[0m\u001b[0;34m.\u001b[0m\u001b[0m_getitem_axis\u001b[0m\u001b[0;34m(\u001b[0m\u001b[0mmaybe_callable\u001b[0m\u001b[0;34m,\u001b[0m \u001b[0maxis\u001b[0m\u001b[0;34m=\u001b[0m\u001b[0maxis\u001b[0m\u001b[0;34m)\u001b[0m\u001b[0;34m\u001b[0m\u001b[0;34m\u001b[0m\u001b[0m\n\u001b[0m\u001b[1;32m    896\u001b[0m \u001b[0;34m\u001b[0m\u001b[0m\n\u001b[1;32m    897\u001b[0m     \u001b[0;32mdef\u001b[0m \u001b[0m_is_scalar_access\u001b[0m\u001b[0;34m(\u001b[0m\u001b[0mself\u001b[0m\u001b[0;34m,\u001b[0m \u001b[0mkey\u001b[0m\u001b[0;34m:\u001b[0m \u001b[0mTuple\u001b[0m\u001b[0;34m)\u001b[0m\u001b[0;34m:\u001b[0m\u001b[0;34m\u001b[0m\u001b[0;34m\u001b[0m\u001b[0m\n",
      "\u001b[0;32m~/Projects/bikeability/.venv/lib/python3.8/site-packages/pandas/core/indexing.py\u001b[0m in \u001b[0;36m_getitem_axis\u001b[0;34m(self, key, axis)\u001b[0m\n\u001b[1;32m   1109\u001b[0m \u001b[0;34m\u001b[0m\u001b[0m\n\u001b[1;32m   1110\u001b[0m                 \u001b[0;32mif\u001b[0m \u001b[0mhasattr\u001b[0m\u001b[0;34m(\u001b[0m\u001b[0mkey\u001b[0m\u001b[0;34m,\u001b[0m \u001b[0;34m\"ndim\"\u001b[0m\u001b[0;34m)\u001b[0m \u001b[0;32mand\u001b[0m \u001b[0mkey\u001b[0m\u001b[0;34m.\u001b[0m\u001b[0mndim\u001b[0m \u001b[0;34m>\u001b[0m \u001b[0;36m1\u001b[0m\u001b[0;34m:\u001b[0m\u001b[0;34m\u001b[0m\u001b[0;34m\u001b[0m\u001b[0m\n\u001b[0;32m-> 1111\u001b[0;31m                     \u001b[0;32mraise\u001b[0m \u001b[0mValueError\u001b[0m\u001b[0;34m(\u001b[0m\u001b[0;34m\"Cannot index with multidimensional key\"\u001b[0m\u001b[0;34m)\u001b[0m\u001b[0;34m\u001b[0m\u001b[0;34m\u001b[0m\u001b[0m\n\u001b[0m\u001b[1;32m   1112\u001b[0m \u001b[0;34m\u001b[0m\u001b[0m\n\u001b[1;32m   1113\u001b[0m                 \u001b[0;32mreturn\u001b[0m \u001b[0mself\u001b[0m\u001b[0;34m.\u001b[0m\u001b[0m_getitem_iterable\u001b[0m\u001b[0;34m(\u001b[0m\u001b[0mkey\u001b[0m\u001b[0;34m,\u001b[0m \u001b[0maxis\u001b[0m\u001b[0;34m=\u001b[0m\u001b[0maxis\u001b[0m\u001b[0;34m)\u001b[0m\u001b[0;34m\u001b[0m\u001b[0;34m\u001b[0m\u001b[0m\n",
      "\u001b[0;31mValueError\u001b[0m: Cannot index with multidimensional key"
     ]
    }
   ],
   "source": [
    "to assign values based on conditionals\n",
    "df['c1'].loc[df['c1'] == 'Value'] = 10\n"
   ]
  }
 ],
 "metadata": {
  "kernelspec": {
   "display_name": "bikeability",
   "language": "python",
   "name": "bikeability"
  },
  "language_info": {
   "codemirror_mode": {
    "name": "ipython",
    "version": 3
   },
   "file_extension": ".py",
   "mimetype": "text/x-python",
   "name": "python",
   "nbconvert_exporter": "python",
   "pygments_lexer": "ipython3",
   "version": "3.8.5"
  },
  "varInspector": {
   "cols": {
    "lenName": 16,
    "lenType": 16,
    "lenVar": 40
   },
   "kernels_config": {
    "python": {
     "delete_cmd_postfix": "",
     "delete_cmd_prefix": "del ",
     "library": "var_list.py",
     "varRefreshCmd": "print(var_dic_list())"
    },
    "r": {
     "delete_cmd_postfix": ") ",
     "delete_cmd_prefix": "rm(",
     "library": "var_list.r",
     "varRefreshCmd": "cat(var_dic_list()) "
    }
   },
   "types_to_exclude": [
    "module",
    "function",
    "builtin_function_or_method",
    "instance",
    "_Feature"
   ],
   "window_display": false
  }
 },
 "nbformat": 4,
 "nbformat_minor": 2
}
