{
 "cells": [
  {
   "cell_type": "code",
   "execution_count": 1,
   "metadata": {},
   "outputs": [],
   "source": [
    "from bikeability._get_osm_data import OSM_retriever"
   ]
  },
  {
   "cell_type": "code",
   "execution_count": 2,
   "metadata": {},
   "outputs": [],
   "source": [
    "bikes = OSM_retriever('bikes', 'Pittsburgh')\n",
    "roads = OSM_retriever('roads', 'Pittsburgh')"
   ]
  },
  {
   "cell_type": "code",
   "execution_count": 3,
   "metadata": {},
   "outputs": [
    {
     "name": "stderr",
     "output_type": "stream",
     "text": [
      "DEBUG:urllib3.connectionpool:Starting new HTTPS connection (1): overpass-api.de:443\n",
      "DEBUG:urllib3.connectionpool:https://overpass-api.de:443 \"GET /api/interpreter?data=%5Bout%3A%22json%22%5D%3Barea%283600188553%29-%3E.a%3B%28way%5Bhighway%3Dcycleway%5D%28area.a%29%3Bway%5Bcycleway%3Dlane%5D%28area.a%29%3B%0A+++++++++++++++++++way%5Bcycleway%3Dasl%5D%28area.a%29%3Bway%5Bcycleway%3Dbike_box%5D%28area.a%29%3B%0A+++++++++++++++++++way%5Bcycleway%3Dcrossing%5D%28area.a%29%3Bway%5Bcycleway%3Dopposite_lane%5D%28area.a%29%3B%0A+++++++++++++++++++way%5Bcycleway%3Dopposite_track%5D%28area.a%29%3Bway%5Bcycleway%3Dseparate%5D%28area.a%29%3B%0A+++++++++++++++++++way%5Bcycleway%3Dsidepath%5D%28area.a%29%3Bway%5Bcycleway%3Dtrack%5D%28area.a%29%3B%0A+++++++++++++++++++way%5Bbicycle%3Ddesignated%5D%28area.a%29%3Bway%5Bbicycle%3Dyes%5D%28area.a%29%3B%0A+++++++++++++++++++way%5Bbicycle_road%3Dyes%5D%28area.a%29%3B%0A+++++++++++++++++++%29%3Bout+geom%3B HTTP/1.1\" 200 None\n",
      "DEBUG:root:\n",
      "Retrieved 2846 entries from area: 188553\n",
      "\tTime: 6.57 seconds\n",
      "\tAttempts: 1\n",
      "DEBUG:urllib3.connectionpool:Starting new HTTPS connection (1): overpass-api.de:443\n",
      "DEBUG:urllib3.connectionpool:https://overpass-api.de:443 \"GET /api/interpreter?data=%5Bout%3A%22json%22%5D%3Barea%283600188553%29-%3E.a%3B%28%0A++++++++++++++++++++way%5Bhighway%3Dprimary%5D%28area.a%29%3B%0A++++++++++++++++++++way%5Bhighway%3Dprimary_link%5D%28area.a%29%3B%0A++++++++++++++++++++way%5Bhighway%3Dresidential%5D%28area.a%29%3B%0A++++++++++++++++++++way%5Bhighway%3Dsecondary%5D%28area.a%29%3B%0A++++++++++++++++++++way%5Bhighway%3Dsecondary_link%5D%28area.a%29%3B%0A++++++++++++++++++++way%5Bhighway%3Dtertiary%5D%28area.a%29%3B%0A++++++++++++++++++++way%5Bhighway%3Dtertiary_link%5D%28area.a%29%3B%0A++++++++++++++++++++way%5Bhighway%3Dtrunk%5D%28area.a%29%3B%0A++++++++++++++++++++way%5Bhighway%3Dtrunk_link%5D%28area.a%29%3B%0A++++++++++++++++++++way%5Bhighway%3Dunclassified%5D%28area.a%29%3B%0A++++++++++++++++++++%0A++++++++++++++++++++%29%3Bout+geom%3B HTTP/1.1\" 200 None\n",
      "DEBUG:root:\n",
      "Retrieved 8655 entries from area: 188553\n",
      "\tTime: 16.11 seconds\n",
      "\tAttempts: 1\n"
     ]
    }
   ],
   "source": [
    "pgh_bikes = bikes.get()\n",
    "pgh_roads = roads.get()"
   ]
  },
  {
   "cell_type": "code",
   "execution_count": null,
   "metadata": {},
   "outputs": [],
   "source": []
  }
 ],
 "metadata": {
  "kernelspec": {
   "display_name": "bikeability",
   "language": "python",
   "name": "bikeability"
  },
  "language_info": {
   "codemirror_mode": {
    "name": "ipython",
    "version": 3
   },
   "file_extension": ".py",
   "mimetype": "text/x-python",
   "name": "python",
   "nbconvert_exporter": "python",
   "pygments_lexer": "ipython3",
   "version": "3.8.5"
  },
  "varInspector": {
   "cols": {
    "lenName": 16,
    "lenType": 16,
    "lenVar": 40
   },
   "kernels_config": {
    "python": {
     "delete_cmd_postfix": "",
     "delete_cmd_prefix": "del ",
     "library": "var_list.py",
     "varRefreshCmd": "print(var_dic_list())"
    },
    "r": {
     "delete_cmd_postfix": ") ",
     "delete_cmd_prefix": "rm(",
     "library": "var_list.r",
     "varRefreshCmd": "cat(var_dic_list()) "
    }
   },
   "types_to_exclude": [
    "module",
    "function",
    "builtin_function_or_method",
    "instance",
    "_Feature"
   ],
   "window_display": false
  }
 },
 "nbformat": 4,
 "nbformat_minor": 2
}
