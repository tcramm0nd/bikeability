{
 "cells": [
  {
   "cell_type": "markdown",
   "metadata": {},
   "source": [
    "# Retrieving and Cleaning OSM Data\n",
    "A notebook for retrieving and cleaning data from Open Street Maps.\n",
    "\n",
    "There are some data cleaning functions on by default, found in the `_data_utils.py` module. Additional cleaning options are part of this notebook, for the purpose of allowing the option to adjust parameters as needed"
   ]
  },
  {
   "cell_type": "markdown",
   "metadata": {},
   "source": [
    "### Import the data retriever"
   ]
  },
  {
   "cell_type": "code",
   "execution_count": 2,
   "metadata": {},
   "outputs": [],
   "source": [
    "from bikeability._get_osm_data import OSM_retriever"
   ]
  },
  {
   "cell_type": "markdown",
   "metadata": {},
   "source": [
    "### Set the OSM Retriever Type\n",
    "The defaults are to retrieve any sort of bike lane from a given city. \n",
    "\n",
    "The Default is `All`;this includes any city for which there is an OSM relation ID assigned.\n",
    "\n",
    "The `cities` argument can also take a list of cities."
   ]
  },
  {
   "cell_type": "code",
   "execution_count": 6,
   "metadata": {},
   "outputs": [],
   "source": [
    "bikes = OSM_retriever('bikes', ['New York'])"
   ]
  },
  {
   "cell_type": "markdown",
   "metadata": {},
   "source": [
    "### Get the OSM data"
   ]
  },
  {
   "cell_type": "code",
   "execution_count": 7,
   "metadata": {
    "scrolled": true
   },
   "outputs": [
    {
     "name": "stderr",
     "output_type": "stream",
     "text": [
      "INFO:root:\n",
      "Retrieved 6206 entries from area: 175905\n",
      "\tTime: 11.92 seconds\n",
      "\tAttempts: 1\n"
     ]
    },
    {
     "name": "stdout",
     "output_type": "stream",
     "text": [
      "dict_keys(['New York'])\n",
      "['New York']\n",
      "['New York']\n"
     ]
    }
   ],
   "source": [
    "bike_lanes = bikes.get()"
   ]
  },
  {
   "cell_type": "markdown",
   "metadata": {},
   "source": [
    "### Overview"
   ]
  },
  {
   "cell_type": "code",
   "execution_count": 8,
   "metadata": {},
   "outputs": [
    {
     "name": "stdout",
     "output_type": "stream",
     "text": [
      "<class 'pandas.core.frame.DataFrame'>\n",
      "RangeIndex: 6206 entries, 0 to 6205\n",
      "Data columns (total 251 columns):\n",
      " #    Column                                      Dtype  \n",
      "---   ------                                      -----  \n",
      " 0    index                                       int64  \n",
      " 1    type                                        object \n",
      " 2    id                                          int64  \n",
      " 3    nodes                                       object \n",
      " 4    geometry                                    object \n",
      " 5    bounds.minlat                               float64\n",
      " 6    bounds.minlon                               float64\n",
      " 7    bounds.maxlat                               float64\n",
      " 8    bounds.maxlon                               float64\n",
      " 9    tags.bicycle                                object \n",
      " 10   tags.cycleway:right                         object \n",
      " 11   tags.hgv                                    object \n",
      " 12   tags.highway                                object \n",
      " 13   tags.maxspeed                               object \n",
      " 14   tags.name                                   object \n",
      " 15   tags.oneway                                 object \n",
      " 16   tags.tiger:cfcc                             object \n",
      " 17   tags.tiger:county                           object \n",
      " 18   tags.tiger:name_base                        object \n",
      " 19   tags.tiger:name_type                        object \n",
      " 20   tags.tiger:reviewed                         object \n",
      " 21   tags.tiger:zip_left                         object \n",
      " 22   tags.tiger:zip_right                        object \n",
      " 23   tags.cycleway                               object \n",
      " 24   tags.name_1                                 object \n",
      " 25   tags.name_2                                 object \n",
      " 26   tags.tiger:name_base_1                      object \n",
      " 27   tags.tiger:name_base_2                      object \n",
      " 28   tags.tiger:name_direction_prefix            object \n",
      " 29   tags.tiger:name_direction_prefix_1          object \n",
      " 30   tags.tiger:name_type_1                      object \n",
      " 31   tags.tiger:name_type_2                      object \n",
      " 32   tags.cycleway:left                          object \n",
      " 33   tags.lane_markings                          object \n",
      " 34   tags.lit                                    object \n",
      " 35   tags.surface                                object \n",
      " 36   tags.destination                            object \n",
      " 37   tags.destination:ref                        object \n",
      " 38   tags.foot                                   object \n",
      " 39   tags.lanes                                  object \n",
      " 40   tags.toll                                   object \n",
      " 41   tags.toll:bicycle                           object \n",
      " 42   tags.bridge                                 object \n",
      " 43   tags.layer                                  object \n",
      " 44   tags.alt_name                               object \n",
      " 45   tags.motor_vehicle                          object \n",
      " 46   tags.lcn                                    object \n",
      " 47   tags.segregated                             object \n",
      " 48   tags.access:conditional                     object \n",
      " 49   tags.network                                object \n",
      " 50   tags.route                                  object \n",
      " 51   tags.parking:condition:right:time_interval  object \n",
      " 52   tags.parking:lane:both                      object \n",
      " 53   tags.sidewalk                               object \n",
      " 54   tags.destination:lanes:backward             object \n",
      " 55   tags.lanes:backward                         object \n",
      " 56   tags.lanes:forward                          object \n",
      " 57   tags.maxheight:backward                     object \n",
      " 58   tags.maxheight:forward                      object \n",
      " 59   tags.maxspeed:advisory:backward             object \n",
      " 60   tags.turn:lanes:forward                     object \n",
      " 61   tags.inline_skates                          object \n",
      " 62   tags.parking:lane:left                      object \n",
      " 63   tags.wikidata                               object \n",
      " 64   tags.wikipedia                              object \n",
      " 65   tags.cycleway:left:oneway                   object \n",
      " 66   tags.cycleway:right:oneway                  object \n",
      " 67   tags.tiger:name_direction_suffix            object \n",
      " 68   tags.tiger:name_direction_prefix_2          object \n",
      " 69   tags.emergency                              object \n",
      " 70   tags.note                                   object \n",
      " 71   tags.rcn_ref                                object \n",
      " 72   tags.source:name                            object \n",
      " 73   tags.horse                                  object \n",
      " 74   tags.cycleway:right:buffer                  object \n",
      " 75   tags.oneway:bicycle                         object \n",
      " 76   tags.motor_vehicle:conditional              object \n",
      " 77   tags.tiger:name_base_3                      object \n",
      " 78   tags.tiger:name_base_4                      object \n",
      " 79   tags.bridge:name                            object \n",
      " 80   tags.maxweight                              object \n",
      " 81   tags.history                                object \n",
      " 82   tags.cycleway:both:buffer                   object \n",
      " 83   tags.maxspeed:type                          object \n",
      " 84   tags.old_name:1811-1883                     object \n",
      " 85   tags.parking:lane:right                     object \n",
      " 86   tags.name:ar                                object \n",
      " 87   tags.name:en                                object \n",
      " 88   tags.tiger:zip_left_1                       object \n",
      " 89   tags.oneway:foot                            object \n",
      " 90   tags.smoothness                             object \n",
      " 91   tags.cyclerating                            object \n",
      " 92   tags.parking:lane:both:width                object \n",
      " 93   tags.short_name                             object \n",
      " 94   tags.ref                                    object \n",
      " 95   tags.oneway:horse                           object \n",
      " 96   tags.cycleway:left:buffer                   object \n",
      " 97   tags.turn:lanes                             object \n",
      " 98   tags.crossing                               object \n",
      " 99   tags.footway                                object \n",
      " 100  tags.maxspeed:conditional                   object \n",
      " 101  tags.note:lanes                             object \n",
      " 102  tags.cycleway:both                          object \n",
      " 103  tags.covered                                object \n",
      " 104  tags.access                                 object \n",
      " 105  tags.source                                 object \n",
      " 106  tags.source_ref                             object \n",
      " 107  tags.parking:lane:width                     object \n",
      " 108  tags.lanes:bus:forward                      object \n",
      " 109  tags.pedestrian                             object \n",
      " 110  tags.tracktype                              object \n",
      " 111  tags.type                                   object \n",
      " 112  tags.mtb:scale:imba                         object \n",
      " 113  tags.tiger:zip_right_1                      object \n",
      " 114  tags.tiger:zip_left_2                       object \n",
      " 115  tags.tiger:zip_right_2                      object \n",
      " 116  tags.tiger:zip_left_3                       object \n",
      " 117  tags.source:imagery                         object \n",
      " 118  tags.aerialway                              object \n",
      " 119  tags.aerialway:capacity                     object \n",
      " 120  tags.aerialway:duration                     object \n",
      " 121  tags.aerialway:occupancy                    object \n",
      " 122  tags.fee                                    object \n",
      " 123  tags.opening_hours                          object \n",
      " 124  tags.start_date                             object \n",
      " 125  tags.wheelchair                             object \n",
      " 126  tags.junction                               object \n",
      " 127  tags.source:maxspeed                        object \n",
      " 128  tags.turn:lanes:backward                    object \n",
      " 129  tags.bicycle:backward                       object \n",
      " 130  tags.psv                                    object \n",
      " 131  tags.tunnel                                 object \n",
      " 132  tags.duration                               object \n",
      " 133  tags.motorcar                               object \n",
      " 134  tags.operator                               object \n",
      " 135  tags.rcn                                    object \n",
      " 136  tags.seamark:type                           object \n",
      " 137  tags.website                                object \n",
      " 138  tags.incline                                object \n",
      " 139  tags.name:pronunciation                     object \n",
      " 140  tags.highway:historical                     object \n",
      " 141  tags.name:ru                                object \n",
      " 142  tags.width                                  object \n",
      " 143  tags.maxheight                              object \n",
      " 144  tags.description                            object \n",
      " 145  tags.bus                                    object \n",
      " 146  tags.cycleway:track                         object \n",
      " 147  tags.lanes:bus                              object \n",
      " 148  tags.destination:street                     object \n",
      " 149  tags.hgv:lanes                              object \n",
      " 150  tags.name1                                  object \n",
      " 151  tags.parking:condition:left:time_interval   object \n",
      " 152  tags.cycleway:buffer                        object \n",
      " 153  tags.maxspeed:advisory                      object \n",
      " 154  tags.name:left                              object \n",
      " 155  tags.name:right                             object \n",
      " 156  tags.sac_scale                              object \n",
      " 157  tags.trail_visibility                       object \n",
      " 158  tags.heritage                               object \n",
      " 159  tags.heritage:operator                      object \n",
      " 160  tags.ref:nrhp                               object \n",
      " 161  tags.loc_name                               object \n",
      " 162  tags.official_name                          object \n",
      " 163  tags.old_railway_operator                   object \n",
      " 164  tags.railway                                object \n",
      " 165  tags.service                                object \n",
      " 166  tags.est_width                              object \n",
      " 167  tags.name:el                                object \n",
      " 168  tags.FIXME                                  object \n",
      " 169  tags.destination:backward                   object \n",
      " 170  tags.source:geometry                        object \n",
      " 171  tags.cycleway:surface                       object \n",
      " 172  tags.footway:surface                        object \n",
      " 173  tags.bicycle:lanes                          object \n",
      " 174  tags.motor_vehicle:lanes                    object \n",
      " 175  tags.cycle                                  object \n",
      " 176  tags.ramp                                   object \n",
      " 177  tags.vehicle:lanes                          object \n",
      " 178  tags.lanes:bus:conditional                  object \n",
      " 179  tags.parking:lane:left:width                object \n",
      " 180  tags.parking:lane:right:width               object \n",
      " 181  tags.bicycle:forward                        object \n",
      " 182  tags.busway                                 object \n",
      " 183  tags.cycleway:right:surface                 object \n",
      " 184  tags.motor_vehicle:forward:conditional      object \n",
      " 185  tags.check_date                             object \n",
      " 186  tags.construction                           object \n",
      " 187  tags.opening_date                           object \n",
      " 188  tags.postal_code                            object \n",
      " 189  tags.barrier                                object \n",
      " 190  tags.cycleway:right:lane                    object \n",
      " 191  tags.old_name:1811-1879                     object \n",
      " 192  tags.old_name:1954-1957                     object \n",
      " 193  tags.highway:lanes                          object \n",
      " 194  tags.lanes:bus:backward                     object \n",
      " 195  tags.tiger:name_direction_suffix_1          object \n",
      " 196  tags.cycleway:both:lane                     object \n",
      " 197  tags.oneway:motor_vehicle                   object \n",
      " 198  tags.area                                   object \n",
      " 199  tags.fixme                                  object \n",
      " 200  tags.handrail                               object \n",
      " 201  tags.ford                                   object \n",
      " 202  tags.source:oneway                          object \n",
      " 203  tags.bridge:movable                         object \n",
      " 204  tags.old_name                               object \n",
      " 205  tags.lanes:both_ways                        object \n",
      " 206  tags.tiger:zip_left_4                       object \n",
      " 207  tags.tiger:zip_right_3                      object \n",
      " 208  tags.tiger:zip_right_4                      object \n",
      " 209  tags.name:be                                object \n",
      " 210  tags.area:highway                           object \n",
      " 211  tags.highway:category:pl                    object \n",
      " 212  tags.parking:condition:right                object \n",
      " 213  tags.parking:condition:right:default        object \n",
      " 214  tags.bicycle:lanes:backward                 object \n",
      " 215  tags.motor_vehicle:lanes:backward           object \n",
      " 216  tags.embankment                             object \n",
      " 217  tags.name:ja                                object \n",
      " 218  tags.name:ko                                object \n",
      " 219  tags.source:url                             object \n",
      " 220  tags.crossing:island                        object \n",
      " 221  tags.tactile_paving                         object \n",
      " 222  tags.level                                  object \n",
      " 223  tags.old_name:1883-1928                     object \n",
      " 224  tags.proposed:cycleway:left                 object \n",
      " 225  tags.turn:bicycle:lanes                     object \n",
      " 226  tags.traffic_calming                        object \n",
      " 227  tags.disused                                object \n",
      " 228  tags.busway:right                           object \n",
      " 229  tags.parking:condition:both:default         object \n",
      " 230  tags.parking:condition:left                 object \n",
      " 231  tags.ramp:bicycle                           object \n",
      " 232  tags.informal                               object \n",
      " 233  tags.parking:lane:left:parallel             object \n",
      " 234  tags.bicycle:conditional                    object \n",
      " 235  tags.foot:conditional                       object \n",
      " 236  tags.separated                              object \n",
      " 237  tags.step_count                             object \n",
      " 238  tags.from                                   object \n",
      " 239  tags.to                                     object \n",
      " 240  tags.maxheight:physical:backward            object \n",
      " 241  tags.maxheight:physical:forward             object \n",
      " 242  tags.maxheight:note                         object \n",
      " 243  tags.FIXME_1                                object \n",
      " 244  tags.man_made                               object \n",
      " 245  tags.bollard                                object \n",
      " 246  tags.colour                                 object \n",
      " 247  tags.material                               object \n",
      " 248  tags.vehicle:lanes:backward                 object \n",
      " 249  city                                        object \n",
      " 250  length                                      float64\n",
      "dtypes: float64(5), int64(2), object(244)\n",
      "memory usage: 11.9+ MB\n"
     ]
    }
   ],
   "source": [
    "bike_lanes.info(verbose=True)"
   ]
  },
  {
   "cell_type": "markdown",
   "metadata": {},
   "source": [
    "### Removing poor matches\n",
    "We're going to remove all the highways from our dataset that don't have some sort of designated bicycle passageway on them. The basis for this is biking on a highway (or really any road over 25mph) is slightly terrifying."
   ]
  },
  {
   "cell_type": "code",
   "execution_count": null,
   "metadata": {},
   "outputs": [],
   "source": [
    "remove = ['motorway', 'trunk', 'motorway_link','trunk_link']\n",
    "bike_lanes.drop(bike_lanes.loc[(bike_lanes['highway'].isin(remove)) & (bike_lanes['cycleway'].isnull()) & (bike_lanes['bicycle'] != 'designated')].index, inplace=True)"
   ]
  },
  {
   "cell_type": "markdown",
   "metadata": {},
   "source": [
    "### Removing extra columns\n"
   ]
  },
  {
   "cell_type": "code",
   "execution_count": null,
   "metadata": {},
   "outputs": [],
   "source": [
    "remove_columns = ['index','type','tiger', 'bounds', 'source', 'note', 'ref', 'horse', 'maxweight',\n",
    "                  'layer','name', 'description', 'lanes:']\n",
    "columns = bike_lanes.columns\n",
    "for r in remove_columns:\n",
    "    columns = [c for c in columns if r not in c]\n",
    "\n",
    "bike_lanes = bike_lanes[columns]"
   ]
  },
  {
   "cell_type": "markdown",
   "metadata": {},
   "source": [
    "### Removing Unimportant Classifiers\n",
    "OSM is wonderful. It really is. However, due to the open source nature and the diversity between cities, the daata retrieved can be bogged down with ancillary attribute that only apply to a small select ways. This removes any column where the mean of the `NaN` is less than 20% of the values returned. For a more diverse (but admittedly more difficult to classify) dataset this can be increased or decreased."
   ]
  },
  {
   "cell_type": "code",
   "execution_count": null,
   "metadata": {},
   "outputs": [],
   "source": [
    "bike_lanes = bike_lanes.loc[:, bike_lanes.isnull().mean() <=.8]"
   ]
  },
  {
   "cell_type": "code",
   "execution_count": null,
   "metadata": {
    "scrolled": false
   },
   "outputs": [],
   "source": [
    "for c in bike_lanes.columns:\n",
    "    if c not in ['id','nodes','geometry', 'length']:\n",
    "        print(f'{c}:')\n",
    "        values = bike_lanes[c].value_counts(dropna=False)\n",
    "        print(f'{values}\\n\\n--\\n')"
   ]
  },
  {
   "cell_type": "code",
   "execution_count": null,
   "metadata": {},
   "outputs": [],
   "source": [
    "# bicycel NAN = No\n",
    "try:\n",
    "    bike_lanes['bicycle'] = bike_lanes['bicycle'].fillna('no')\n",
    "except:\n",
    "    print(\"\"\"The 'bicycle' column was dropped from the dataframe\"\"\")"
   ]
  },
  {
   "cell_type": "code",
   "execution_count": null,
   "metadata": {},
   "outputs": [],
   "source": [
    "# oneway NAN=no\n",
    "bike_lanes['oneway'] = bike_lanes['oneway'].fillna('no')"
   ]
  },
  {
   "cell_type": "code",
   "execution_count": null,
   "metadata": {},
   "outputs": [],
   "source": [
    "# cycleway NAN and none = no\n",
    "bike_lanes['cycleway'] = bike_lanes['cycleway'].fillna('no')"
   ]
  },
  {
   "cell_type": "code",
   "execution_count": null,
   "metadata": {},
   "outputs": [],
   "source": [
    "# bike_lanes.to_json('bike_lanes_cleaned.json')"
   ]
  },
  {
   "cell_type": "code",
   "execution_count": null,
   "metadata": {},
   "outputs": [],
   "source": []
  },
  {
   "cell_type": "code",
   "execution_count": null,
   "metadata": {},
   "outputs": [],
   "source": []
  }
 ],
 "metadata": {
  "kernelspec": {
   "display_name": "bikeability",
   "language": "python",
   "name": "bikeability"
  },
  "language_info": {
   "codemirror_mode": {
    "name": "ipython",
    "version": 3
   },
   "file_extension": ".py",
   "mimetype": "text/x-python",
   "name": "python",
   "nbconvert_exporter": "python",
   "pygments_lexer": "ipython3",
   "version": "3.8.5"
  },
  "varInspector": {
   "cols": {
    "lenName": 16,
    "lenType": 16,
    "lenVar": 40
   },
   "kernels_config": {
    "python": {
     "delete_cmd_postfix": "",
     "delete_cmd_prefix": "del ",
     "library": "var_list.py",
     "varRefreshCmd": "print(var_dic_list())"
    },
    "r": {
     "delete_cmd_postfix": ") ",
     "delete_cmd_prefix": "rm(",
     "library": "var_list.r",
     "varRefreshCmd": "cat(var_dic_list()) "
    }
   },
   "types_to_exclude": [
    "module",
    "function",
    "builtin_function_or_method",
    "instance",
    "_Feature"
   ],
   "window_display": false
  }
 },
 "nbformat": 4,
 "nbformat_minor": 2
}
